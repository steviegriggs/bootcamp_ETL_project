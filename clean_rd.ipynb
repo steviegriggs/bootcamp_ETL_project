{
 "cells": [
  {
   "cell_type": "code",
   "execution_count": 1,
   "metadata": {},
   "outputs": [],
   "source": [
    "import pandas as pd\n",
    "import datetime as dt\n",
    "import numpy as np"
   ]
  },
  {
   "cell_type": "code",
   "execution_count": 2,
   "metadata": {},
   "outputs": [],
   "source": [
    "df_ask = pd.read_csv('bittrex-bitcoin-pairs/BTC_PAIRS_ASK.csv')\n",
    "df_bid = pd.read_csv('bittrex-bitcoin-pairs/BTC_PAIRS_BID.csv')\n",
    "df_price = pd.read_csv('bittrex-bitcoin-pairs/BTC_PAIRS_PRICE.csv')\n",
    "df_vol = pd.read_csv('bittrex-bitcoin-pairs/BTC_PAIRS_VOLUME.csv')"
   ]
  },
  {
   "cell_type": "code",
   "execution_count": 3,
   "metadata": {},
   "outputs": [],
   "source": [
    "ask_time_col = df_ask.columns[0]\n",
    "bid_time_col = df_bid.columns[0]\n",
    "price_time_col = df_price.columns[0]\n",
    "vol_time_col = df_vol.columns[0]"
   ]
  },
  {
   "cell_type": "code",
   "execution_count": 4,
   "metadata": {},
   "outputs": [],
   "source": [
    "df_ask[ask_time_col] = pd.to_datetime(df_ask[ask_time_col], unit = 's', utc = True).apply(lambda x: x.date().strftime('%m-%d-%Y'))\n",
    "\n",
    "df_bid[bid_time_col] = pd.to_datetime(df_bid[bid_time_col], unit = 's', utc = True).apply(lambda x: x.date().strftime('%m-%d-%Y'))\n",
    "\n",
    "df_price[price_time_col] = pd.to_datetime(df_price[price_time_col], unit = 's', utc = True).apply(lambda x: x.date().strftime('%m-%d-%Y'))\n",
    "\n",
    "df_vol[vol_time_col] = pd.to_datetime(df_vol[vol_time_col], unit = 's', utc = True).apply(lambda x: x.date().strftime('%m-%d-%Y'))"
   ]
  },
  {
   "cell_type": "code",
   "execution_count": 5,
   "metadata": {},
   "outputs": [],
   "source": [
    "df_ask = df_ask.rename(columns ={ask_time_col:'Time'})\n",
    "df_bid = df_bid.rename(columns ={bid_time_col:'Time'})\n",
    "df_price = df_price.rename(columns ={price_time_col:'Time'})\n",
    "df_vol = df_vol.rename(columns ={vol_time_col:'Time'})"
   ]
  },
  {
   "cell_type": "code",
   "execution_count": 6,
   "metadata": {},
   "outputs": [],
   "source": [
    "# df_ask = df_ask.set_index('Time')\n",
    "# df_bid = df_bid.set_index('Time')\n",
    "# df_price = df_price.set_index('Time')\n",
    "# df_vol = df_vol.set_index('Time')"
   ]
  },
  {
   "cell_type": "code",
   "execution_count": 7,
   "metadata": {},
   "outputs": [
    {
     "data": {
      "text/plain": [
       "str"
      ]
     },
     "execution_count": 7,
     "metadata": {},
     "output_type": "execute_result"
    }
   ],
   "source": [
    "type(df_vol.Time[0])\n"
   ]
  },
  {
   "cell_type": "code",
   "execution_count": null,
   "metadata": {},
   "outputs": [],
   "source": []
  },
  {
   "cell_type": "code",
   "execution_count": null,
   "metadata": {},
   "outputs": [],
   "source": [
    "## Error \n",
    "\n",
    "# price_vol_df = df_price.join(df_vol,\n",
    "#                              on = 'Time',\n",
    "#                              lsuffix = \"_Price\",\n",
    "#                              rsuffix = \"_Volume\"\n",
    "#                             )\n",
    "\n",
    "# price_vol_df.head()"
   ]
  },
  {
   "cell_type": "code",
   "execution_count": null,
   "metadata": {},
   "outputs": [],
   "source": [
    "## Kills the kernel\n",
    "\n",
    "# price_vol_df = df_price.merge(right = df_vol,\n",
    "#                               left_on = 'Time',\n",
    "#                               right_on = 'Time',\n",
    "#                               suffixes = (\"_Price\",\"_Volume\")\n",
    "#                              )\n",
    "\n",
    "# price_vol_df.head()\n"
   ]
  },
  {
   "cell_type": "code",
   "execution_count": 8,
   "metadata": {},
   "outputs": [],
   "source": [
    "price_group = df_price.groupby('Time')\n",
    "\n",
    "price_low_df = price_group.min()\n",
    "price_high_df = price_group.max()\n",
    "price_avg_df = price_group.mean()\n",
    "price_std_df = price_group.std()"
   ]
  },
  {
   "cell_type": "code",
   "execution_count": 9,
   "metadata": {},
   "outputs": [],
   "source": [
    "vol_group = df_vol.groupby('Time')\n",
    "\n",
    "vol_low_df = vol_group.min()\n",
    "vol_high_df = vol_group.max()\n",
    "vol_avg_df = vol_group.mean()\n",
    "vol_std_df = vol_group.std()"
   ]
  },
  {
   "cell_type": "code",
   "execution_count": 13,
   "metadata": {},
   "outputs": [],
   "source": [
    "price_vol_low = price_low_df.merge(right = vol_low_df,\n",
    "                                   left_on = \"Time\",\n",
    "                                   right_on = \"Time\",\n",
    "                                   suffixes = (\"_Price\", \"_Volume\")\n",
    "                                  )\n"
   ]
  },
  {
   "cell_type": "code",
   "execution_count": 14,
   "metadata": {},
   "outputs": [],
   "source": [
    "price_vol_high = price_high_df.merge(right = vol_high_df,\n",
    "                                   left_on = \"Time\",\n",
    "                                   right_on = \"Time\",\n",
    "                                   suffixes = (\"_Price\", \"_Volume\")\n",
    "                                  )"
   ]
  },
  {
   "cell_type": "code",
   "execution_count": 15,
   "metadata": {},
   "outputs": [],
   "source": [
    "price_vol_avg = price_avg_df.merge(right = vol_avg_df,\n",
    "                                   left_on = \"Time\",\n",
    "                                   right_on = \"Time\",\n",
    "                                   suffixes = (\"_Price\", \"_Volume\")\n",
    "                                  )"
   ]
  },
  {
   "cell_type": "code",
   "execution_count": 16,
   "metadata": {},
   "outputs": [],
   "source": [
    "price_vol_std = price_std_df.merge(right = vol_std_df,\n",
    "                                   left_on = \"Time\",\n",
    "                                   right_on = \"Time\",\n",
    "                                   suffixes = (\"_Price\", \"_Volume\")\n",
    "                                  )"
   ]
  },
  {
   "cell_type": "code",
   "execution_count": null,
   "metadata": {},
   "outputs": [],
   "source": []
  }
 ],
 "metadata": {
  "kernelspec": {
   "display_name": "Python 3",
   "language": "python",
   "name": "python3"
  },
  "language_info": {
   "codemirror_mode": {
    "name": "ipython",
    "version": 3
   },
   "file_extension": ".py",
   "mimetype": "text/x-python",
   "name": "python",
   "nbconvert_exporter": "python",
   "pygments_lexer": "ipython3",
   "version": "3.7.1"
  }
 },
 "nbformat": 4,
 "nbformat_minor": 2
}
