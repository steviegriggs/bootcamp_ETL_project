{
 "cells": [
  {
   "cell_type": "code",
   "execution_count": 1,
   "metadata": {},
   "outputs": [],
   "source": [
    "import pandas as pd\n",
    "import datetime as dt\n",
    "import numpy as np\n",
    "import scipy as stats\n",
    "import pandas as pd\n",
    "from sklearn import linear_model\n",
    "from sklearn.ensemble import RandomForestRegressor\n",
    "from sklearn import metrics as mt\n",
    "from pprint import pprint\n",
    "import matplotlib as plt"
   ]
  },
  {
   "cell_type": "code",
   "execution_count": 2,
   "metadata": {},
   "outputs": [],
   "source": [
    "df_ask = pd.read_csv('bittrex-bitcoin-pairs/BTC_PAIRS_ASK.csv')\n",
    "df_bid = pd.read_csv('bittrex-bitcoin-pairs/BTC_PAIRS_BID.csv')\n",
    "df_price = pd.read_csv('bittrex-bitcoin-pairs/BTC_PAIRS_PRICE.csv')\n",
    "df_vol = pd.read_csv('bittrex-bitcoin-pairs/BTC_PAIRS_VOLUME.csv')"
   ]
  },
  {
   "cell_type": "code",
   "execution_count": 3,
   "metadata": {},
   "outputs": [],
   "source": [
    "ask_time_col = df_ask.columns[0]\n",
    "bid_time_col = df_bid.columns[0]\n",
    "price_time_col = df_price.columns[0]\n",
    "vol_time_col = df_vol.columns[0]\n",
    "\n",
    "df_ask[ask_time_col] = pd.to_datetime(df_ask[ask_time_col], unit = 's', utc = True).apply(lambda x: x.date().strftime('%m-%d-%Y'))\n",
    "\n",
    "df_bid[bid_time_col] = pd.to_datetime(df_bid[bid_time_col], unit = 's', utc = True).apply(lambda x: x.date().strftime('%m-%d-%Y'))\n",
    "\n",
    "df_price[price_time_col] = pd.to_datetime(df_price[price_time_col], unit = 's', utc = True).apply(lambda x: x.date().strftime('%m-%d-%Y'))\n",
    "\n",
    "df_vol[vol_time_col] = pd.to_datetime(df_vol[vol_time_col], unit = 's', utc = True).apply(lambda x: x.date().strftime('%m-%d-%Y'))"
   ]
  },
  {
   "cell_type": "code",
   "execution_count": 4,
   "metadata": {},
   "outputs": [],
   "source": [
    "df_ask = df_ask.rename(columns ={ask_time_col:'Time'})\n",
    "df_bid = df_bid.rename(columns ={bid_time_col:'Time'})\n",
    "df_price = df_price.rename(columns ={price_time_col:'Time'})\n",
    "df_vol = df_vol.rename(columns ={vol_time_col:'Time'})"
   ]
  },
  {
   "cell_type": "code",
   "execution_count": 5,
   "metadata": {},
   "outputs": [],
   "source": [
    "ltc_df = df_price[['Time','BTC_LTC']]\n",
    "eth_df = df_price[['Time','BTC_ETH']]\n",
    "dash_df = df_price[['Time','BTC_DASH']]\n",
    "xrp_df = df_price[['Time','BTC_XRP']]"
   ]
  },
  {
   "cell_type": "code",
   "execution_count": 6,
   "metadata": {},
   "outputs": [
    {
     "name": "stderr",
     "output_type": "stream",
     "text": [
      "/anaconda3/lib/python3.7/site-packages/pandas/core/indexing.py:189: SettingWithCopyWarning: \n",
      "A value is trying to be set on a copy of a slice from a DataFrame\n",
      "\n",
      "See the caveats in the documentation: http://pandas.pydata.org/pandas-docs/stable/indexing.html#indexing-view-versus-copy\n",
      "  self._setitem_with_indexer(indexer, value)\n",
      "/anaconda3/lib/python3.7/site-packages/ipykernel_launcher.py:2: SettingWithCopyWarning: \n",
      "A value is trying to be set on a copy of a slice from a DataFrame\n",
      "\n",
      "See the caveats in the documentation: http://pandas.pydata.org/pandas-docs/stable/indexing.html#indexing-view-versus-copy\n",
      "  \n"
     ]
    }
   ],
   "source": [
    "t5_price = df_price[['BTC_LTC','BTC_ETH','BTC_ZEC','BTC_DASH','BTC_XRP']]\n",
    "t5_price.iloc[2745] = (t5_price.iloc[2744]+t5_price.iloc[2746])/2\n",
    "\n",
    "\n"
   ]
  },
  {
   "cell_type": "code",
   "execution_count": 7,
   "metadata": {},
   "outputs": [],
   "source": [
    "t5_adj = t5_price.copy()\n",
    "t5_adj.loc[-1] = [0, 0, 0, 0, 0]"
   ]
  },
  {
   "cell_type": "code",
   "execution_count": 8,
   "metadata": {},
   "outputs": [
    {
     "data": {
      "text/plain": [
       "BTC_LTC     0.018771\n",
       "BTC_ETH     0.063948\n",
       "BTC_ZEC     0.028754\n",
       "BTC_DASH    0.047050\n",
       "BTC_XRP     0.000079\n",
       "Name: 2745, dtype: float64"
      ]
     },
     "execution_count": 8,
     "metadata": {},
     "output_type": "execute_result"
    }
   ],
   "source": [
    "t5_price.iloc[2745]"
   ]
  },
  {
   "cell_type": "code",
   "execution_count": null,
   "metadata": {},
   "outputs": [],
   "source": []
  },
  {
   "cell_type": "code",
   "execution_count": 9,
   "metadata": {},
   "outputs": [],
   "source": [
    "# (t5_price.iloc[2744][0]+t5_price.iloc[2746][0])/2"
   ]
  },
  {
   "cell_type": "code",
   "execution_count": 10,
   "metadata": {},
   "outputs": [
    {
     "data": {
      "text/html": [
       "<div>\n",
       "<style scoped>\n",
       "    .dataframe tbody tr th:only-of-type {\n",
       "        vertical-align: middle;\n",
       "    }\n",
       "\n",
       "    .dataframe tbody tr th {\n",
       "        vertical-align: top;\n",
       "    }\n",
       "\n",
       "    .dataframe thead th {\n",
       "        text-align: right;\n",
       "    }\n",
       "</style>\n",
       "<table border=\"1\" class=\"dataframe\">\n",
       "  <thead>\n",
       "    <tr style=\"text-align: right;\">\n",
       "      <th></th>\n",
       "      <th>BTC_LTC</th>\n",
       "      <th>BTC_ETH</th>\n",
       "      <th>BTC_ZEC</th>\n",
       "      <th>BTC_DASH</th>\n",
       "      <th>BTC_XRP</th>\n",
       "    </tr>\n",
       "  </thead>\n",
       "  <tbody>\n",
       "    <tr>\n",
       "      <th>0</th>\n",
       "      <td>0.000000</td>\n",
       "      <td>0.000000</td>\n",
       "      <td>0.000000</td>\n",
       "      <td>0.000000</td>\n",
       "      <td>0.000000</td>\n",
       "    </tr>\n",
       "    <tr>\n",
       "      <th>1</th>\n",
       "      <td>0.019582</td>\n",
       "      <td>0.072955</td>\n",
       "      <td>0.027883</td>\n",
       "      <td>0.049795</td>\n",
       "      <td>0.000081</td>\n",
       "    </tr>\n",
       "    <tr>\n",
       "      <th>2</th>\n",
       "      <td>0.019650</td>\n",
       "      <td>0.072960</td>\n",
       "      <td>0.027900</td>\n",
       "      <td>0.049790</td>\n",
       "      <td>0.000081</td>\n",
       "    </tr>\n",
       "    <tr>\n",
       "      <th>3</th>\n",
       "      <td>0.019650</td>\n",
       "      <td>0.072660</td>\n",
       "      <td>0.027900</td>\n",
       "      <td>0.049830</td>\n",
       "      <td>0.000081</td>\n",
       "    </tr>\n",
       "    <tr>\n",
       "      <th>4</th>\n",
       "      <td>0.019650</td>\n",
       "      <td>0.072600</td>\n",
       "      <td>0.027900</td>\n",
       "      <td>0.049830</td>\n",
       "      <td>0.000081</td>\n",
       "    </tr>\n",
       "  </tbody>\n",
       "</table>\n",
       "</div>"
      ],
      "text/plain": [
       "    BTC_LTC   BTC_ETH   BTC_ZEC  BTC_DASH   BTC_XRP\n",
       "0  0.000000  0.000000  0.000000  0.000000  0.000000\n",
       "1  0.019582  0.072955  0.027883  0.049795  0.000081\n",
       "2  0.019650  0.072960  0.027900  0.049790  0.000081\n",
       "3  0.019650  0.072660  0.027900  0.049830  0.000081\n",
       "4  0.019650  0.072600  0.027900  0.049830  0.000081"
      ]
     },
     "execution_count": 10,
     "metadata": {},
     "output_type": "execute_result"
    }
   ],
   "source": [
    "t5_adj.index = t5_adj.index + 1\n",
    "t5_adj.sort_index(inplace = True)\n",
    "t5_adj.head()\n",
    "\n"
   ]
  },
  {
   "cell_type": "code",
   "execution_count": 11,
   "metadata": {},
   "outputs": [],
   "source": [
    "diff_df = t5_price - t5_adj\n",
    "\n",
    "diff_df = diff_df.drop(index = 40162)\n",
    "diff_df = diff_df.drop(index = 0)\n",
    "diff_df.index = diff_df.index - 1\n",
    "\n",
    "\n"
   ]
  },
  {
   "cell_type": "code",
   "execution_count": 12,
   "metadata": {},
   "outputs": [
    {
     "data": {
      "text/html": [
       "<div>\n",
       "<style scoped>\n",
       "    .dataframe tbody tr th:only-of-type {\n",
       "        vertical-align: middle;\n",
       "    }\n",
       "\n",
       "    .dataframe tbody tr th {\n",
       "        vertical-align: top;\n",
       "    }\n",
       "\n",
       "    .dataframe thead th {\n",
       "        text-align: right;\n",
       "    }\n",
       "</style>\n",
       "<table border=\"1\" class=\"dataframe\">\n",
       "  <thead>\n",
       "    <tr style=\"text-align: right;\">\n",
       "      <th></th>\n",
       "      <th>BTC_LTC</th>\n",
       "      <th>BTC_ETH</th>\n",
       "      <th>BTC_ZEC</th>\n",
       "      <th>BTC_DASH</th>\n",
       "      <th>BTC_XRP</th>\n",
       "    </tr>\n",
       "  </thead>\n",
       "  <tbody>\n",
       "    <tr>\n",
       "      <th>0</th>\n",
       "      <td>6.800000e-05</td>\n",
       "      <td>0.000005</td>\n",
       "      <td>0.000017</td>\n",
       "      <td>-0.000005</td>\n",
       "      <td>-6.000000e-08</td>\n",
       "    </tr>\n",
       "    <tr>\n",
       "      <th>1</th>\n",
       "      <td>0.000000e+00</td>\n",
       "      <td>-0.000300</td>\n",
       "      <td>0.000000</td>\n",
       "      <td>0.000040</td>\n",
       "      <td>1.000000e-08</td>\n",
       "    </tr>\n",
       "    <tr>\n",
       "      <th>2</th>\n",
       "      <td>0.000000e+00</td>\n",
       "      <td>-0.000060</td>\n",
       "      <td>0.000000</td>\n",
       "      <td>0.000000</td>\n",
       "      <td>2.900000e-07</td>\n",
       "    </tr>\n",
       "    <tr>\n",
       "      <th>3</th>\n",
       "      <td>-6.800000e-05</td>\n",
       "      <td>0.000000</td>\n",
       "      <td>0.000000</td>\n",
       "      <td>-0.000494</td>\n",
       "      <td>-2.900000e-07</td>\n",
       "    </tr>\n",
       "    <tr>\n",
       "      <th>4</th>\n",
       "      <td>-1.000000e-06</td>\n",
       "      <td>0.000000</td>\n",
       "      <td>0.000000</td>\n",
       "      <td>0.000000</td>\n",
       "      <td>2.900000e-07</td>\n",
       "    </tr>\n",
       "  </tbody>\n",
       "</table>\n",
       "</div>"
      ],
      "text/plain": [
       "        BTC_LTC   BTC_ETH   BTC_ZEC  BTC_DASH       BTC_XRP\n",
       "0  6.800000e-05  0.000005  0.000017 -0.000005 -6.000000e-08\n",
       "1  0.000000e+00 -0.000300  0.000000  0.000040  1.000000e-08\n",
       "2  0.000000e+00 -0.000060  0.000000  0.000000  2.900000e-07\n",
       "3 -6.800000e-05  0.000000  0.000000 -0.000494 -2.900000e-07\n",
       "4 -1.000000e-06  0.000000  0.000000  0.000000  2.900000e-07"
      ]
     },
     "execution_count": 12,
     "metadata": {},
     "output_type": "execute_result"
    }
   ],
   "source": [
    "diff_df.head()"
   ]
  },
  {
   "cell_type": "code",
   "execution_count": 13,
   "metadata": {},
   "outputs": [],
   "source": [
    "t5_price_division = t5_price.copy()\n",
    "t5_price_division = t5_price_division.drop(index = 40161)\n",
    "\n",
    "\n",
    "rel_df = diff_df/t5_price_division"
   ]
  },
  {
   "cell_type": "code",
   "execution_count": 14,
   "metadata": {},
   "outputs": [
    {
     "data": {
      "text/html": [
       "<div>\n",
       "<style scoped>\n",
       "    .dataframe tbody tr th:only-of-type {\n",
       "        vertical-align: middle;\n",
       "    }\n",
       "\n",
       "    .dataframe tbody tr th {\n",
       "        vertical-align: top;\n",
       "    }\n",
       "\n",
       "    .dataframe thead th {\n",
       "        text-align: right;\n",
       "    }\n",
       "</style>\n",
       "<table border=\"1\" class=\"dataframe\">\n",
       "  <thead>\n",
       "    <tr style=\"text-align: right;\">\n",
       "      <th></th>\n",
       "      <th>BTC_LTC</th>\n",
       "      <th>BTC_ETH</th>\n",
       "      <th>BTC_ZEC</th>\n",
       "      <th>BTC_DASH</th>\n",
       "      <th>BTC_XRP</th>\n",
       "    </tr>\n",
       "  </thead>\n",
       "  <tbody>\n",
       "    <tr>\n",
       "      <th>count</th>\n",
       "      <td>40161.000000</td>\n",
       "      <td>4.016100e+04</td>\n",
       "      <td>4.016100e+04</td>\n",
       "      <td>40161.000000</td>\n",
       "      <td>40161.000000</td>\n",
       "    </tr>\n",
       "    <tr>\n",
       "      <th>mean</th>\n",
       "      <td>-0.000002</td>\n",
       "      <td>-6.205566e-07</td>\n",
       "      <td>3.548589e-06</td>\n",
       "      <td>0.000002</td>\n",
       "      <td>0.000002</td>\n",
       "    </tr>\n",
       "    <tr>\n",
       "      <th>std</th>\n",
       "      <td>0.002690</td>\n",
       "      <td>2.463382e-03</td>\n",
       "      <td>2.318534e-03</td>\n",
       "      <td>0.002596</td>\n",
       "      <td>0.002131</td>\n",
       "    </tr>\n",
       "    <tr>\n",
       "      <th>min</th>\n",
       "      <td>-0.014260</td>\n",
       "      <td>-2.073029e-02</td>\n",
       "      <td>-1.353941e-02</td>\n",
       "      <td>-0.016868</td>\n",
       "      <td>-0.018481</td>\n",
       "    </tr>\n",
       "    <tr>\n",
       "      <th>25%</th>\n",
       "      <td>-0.000350</td>\n",
       "      <td>-6.256236e-04</td>\n",
       "      <td>-3.697108e-07</td>\n",
       "      <td>0.000000</td>\n",
       "      <td>-0.000286</td>\n",
       "    </tr>\n",
       "    <tr>\n",
       "      <th>50%</th>\n",
       "      <td>0.000000</td>\n",
       "      <td>0.000000e+00</td>\n",
       "      <td>0.000000e+00</td>\n",
       "      <td>0.000000</td>\n",
       "      <td>0.000000</td>\n",
       "    </tr>\n",
       "    <tr>\n",
       "      <th>75%</th>\n",
       "      <td>0.000305</td>\n",
       "      <td>6.058220e-04</td>\n",
       "      <td>0.000000e+00</td>\n",
       "      <td>0.000000</td>\n",
       "      <td>0.000280</td>\n",
       "    </tr>\n",
       "    <tr>\n",
       "      <th>max</th>\n",
       "      <td>0.023335</td>\n",
       "      <td>1.448137e-02</td>\n",
       "      <td>1.585688e-02</td>\n",
       "      <td>0.021362</td>\n",
       "      <td>0.022048</td>\n",
       "    </tr>\n",
       "  </tbody>\n",
       "</table>\n",
       "</div>"
      ],
      "text/plain": [
       "            BTC_LTC       BTC_ETH       BTC_ZEC      BTC_DASH       BTC_XRP\n",
       "count  40161.000000  4.016100e+04  4.016100e+04  40161.000000  40161.000000\n",
       "mean      -0.000002 -6.205566e-07  3.548589e-06      0.000002      0.000002\n",
       "std        0.002690  2.463382e-03  2.318534e-03      0.002596      0.002131\n",
       "min       -0.014260 -2.073029e-02 -1.353941e-02     -0.016868     -0.018481\n",
       "25%       -0.000350 -6.256236e-04 -3.697108e-07      0.000000     -0.000286\n",
       "50%        0.000000  0.000000e+00  0.000000e+00      0.000000      0.000000\n",
       "75%        0.000305  6.058220e-04  0.000000e+00      0.000000      0.000280\n",
       "max        0.023335  1.448137e-02  1.585688e-02      0.021362      0.022048"
      ]
     },
     "execution_count": 14,
     "metadata": {},
     "output_type": "execute_result"
    }
   ],
   "source": [
    "rel_df.describe()"
   ]
  },
  {
   "cell_type": "code",
   "execution_count": 15,
   "metadata": {},
   "outputs": [],
   "source": [
    "# for x in rel_df:\n",
    "#     print(rel_df[x])"
   ]
  },
  {
   "cell_type": "code",
   "execution_count": 16,
   "metadata": {},
   "outputs": [],
   "source": [
    "# rel_df.head()"
   ]
  },
  {
   "cell_type": "code",
   "execution_count": 17,
   "metadata": {},
   "outputs": [],
   "source": [
    "rel_df.to_csv('no_time.csv')"
   ]
  },
  {
   "cell_type": "code",
   "execution_count": 18,
   "metadata": {},
   "outputs": [],
   "source": [
    "rel_df['Date'] = df_ask['Time']\n",
    "rel_df.set_index('Date', inplace = True)\n"
   ]
  },
  {
   "cell_type": "code",
   "execution_count": 19,
   "metadata": {},
   "outputs": [],
   "source": [
    "rel_df.to_csv('with_time.csv')"
   ]
  },
  {
   "cell_type": "code",
   "execution_count": null,
   "metadata": {},
   "outputs": [],
   "source": []
  },
  {
   "cell_type": "code",
   "execution_count": null,
   "metadata": {},
   "outputs": [],
   "source": []
  },
  {
   "cell_type": "code",
   "execution_count": null,
   "metadata": {},
   "outputs": [],
   "source": []
  },
  {
   "cell_type": "code",
   "execution_count": null,
   "metadata": {},
   "outputs": [],
   "source": []
  },
  {
   "cell_type": "code",
   "execution_count": null,
   "metadata": {},
   "outputs": [],
   "source": []
  },
  {
   "cell_type": "code",
   "execution_count": null,
   "metadata": {},
   "outputs": [],
   "source": []
  }
 ],
 "metadata": {
  "kernelspec": {
   "display_name": "Python 3",
   "language": "python",
   "name": "python3"
  },
  "language_info": {
   "codemirror_mode": {
    "name": "ipython",
    "version": 3
   },
   "file_extension": ".py",
   "mimetype": "text/x-python",
   "name": "python",
   "nbconvert_exporter": "python",
   "pygments_lexer": "ipython3",
   "version": "3.7.1"
  }
 },
 "nbformat": 4,
 "nbformat_minor": 2
}
